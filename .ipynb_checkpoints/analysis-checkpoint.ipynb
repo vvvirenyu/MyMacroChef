{
 "cells": [
  {
   "cell_type": "code",
   "execution_count": 294,
   "metadata": {},
   "outputs": [],
   "source": [
    "import pandas as pd\n",
    "import numpy as np\n",
    "import re\n",
    "from sklearn.cluster import KMeans"
   ]
  },
  {
   "cell_type": "code",
   "execution_count": 3,
   "metadata": {},
   "outputs": [],
   "source": [
    "food_list = pd.read_csv('food_list.csv')"
   ]
  },
  {
   "cell_type": "code",
   "execution_count": 4,
   "metadata": {},
   "outputs": [
    {
     "data": {
      "text/plain": [
       "(1301, 8)"
      ]
     },
     "execution_count": 4,
     "metadata": {},
     "output_type": "execute_result"
    }
   ],
   "source": [
    "food_list.shape"
   ]
  },
  {
   "cell_type": "code",
   "execution_count": 56,
   "metadata": {},
   "outputs": [],
   "source": [
    "food_data = pd.read_csv('food_data.csv')"
   ]
  },
  {
   "cell_type": "code",
   "execution_count": 57,
   "metadata": {},
   "outputs": [
    {
     "data": {
      "text/plain": [
       "(1301, 9)"
      ]
     },
     "execution_count": 57,
     "metadata": {},
     "output_type": "execute_result"
    }
   ],
   "source": [
    "food_data.shape"
   ]
  },
  {
   "cell_type": "code",
   "execution_count": 58,
   "metadata": {},
   "outputs": [],
   "source": [
    "food_data.reset_index(inplace=True)"
   ]
  },
  {
   "cell_type": "code",
   "execution_count": 59,
   "metadata": {},
   "outputs": [],
   "source": [
    "food_data.columns = ['id', 'food_name', 'food_url', 'Calories', 'Carbs', 'Fat', 'Protein',\n",
    "       'Fiber', 'type', 'ingredients']"
   ]
  },
  {
   "cell_type": "code",
   "execution_count": 193,
   "metadata": {},
   "outputs": [],
   "source": [
    "food_data.drop('food_url',axis=1,inplace=True)"
   ]
  },
  {
   "cell_type": "code",
   "execution_count": 61,
   "metadata": {},
   "outputs": [],
   "source": [
    "food_data['meal_type'] = 'meal'"
   ]
  },
  {
   "cell_type": "code",
   "execution_count": 62,
   "metadata": {},
   "outputs": [],
   "source": [
    "index = food_data[food_data['Calories']<300]['id']"
   ]
  },
  {
   "cell_type": "code",
   "execution_count": 63,
   "metadata": {},
   "outputs": [
    {
     "name": "stderr",
     "output_type": "stream",
     "text": [
      "/home/hardik/hardik/lib/python3.6/site-packages/ipykernel_launcher.py:2: FutureWarning: set_value is deprecated and will be removed in a future release. Please use .at[] or .iat[] accessors instead\n",
      "  \n"
     ]
    }
   ],
   "source": [
    "for i in index:\n",
    "    food_data.set_value(i,'meal_type', 'breakfast')"
   ]
  },
  {
   "cell_type": "code",
   "execution_count": 86,
   "metadata": {},
   "outputs": [
    {
     "data": {
      "text/plain": [
       "lunch        520\n",
       "dinner       417\n",
       "breakfast    364\n",
       "Name: meal_type, dtype: int64"
      ]
     },
     "execution_count": 86,
     "metadata": {},
     "output_type": "execute_result"
    }
   ],
   "source": [
    "food_data.meal_type.value_counts()"
   ]
  },
  {
   "cell_type": "code",
   "execution_count": 65,
   "metadata": {},
   "outputs": [],
   "source": [
    "index = food_data[food_data['Calories']>600]['id']"
   ]
  },
  {
   "cell_type": "code",
   "execution_count": 66,
   "metadata": {},
   "outputs": [
    {
     "name": "stderr",
     "output_type": "stream",
     "text": [
      "/home/hardik/hardik/lib/python3.6/site-packages/ipykernel_launcher.py:2: FutureWarning: set_value is deprecated and will be removed in a future release. Please use .at[] or .iat[] accessors instead\n",
      "  \n"
     ]
    }
   ],
   "source": [
    "for i in index:\n",
    "    food_data.set_value(i,'meal_type', 'dinner')"
   ]
  },
  {
   "cell_type": "code",
   "execution_count": 80,
   "metadata": {},
   "outputs": [],
   "source": [
    "index = food_data[(food_data['Calories']<=600) & (food_data['Calories']>=300)].sample(n=520)['id']"
   ]
  },
  {
   "cell_type": "code",
   "execution_count": 82,
   "metadata": {},
   "outputs": [
    {
     "name": "stderr",
     "output_type": "stream",
     "text": [
      "/home/hardik/hardik/lib/python3.6/site-packages/ipykernel_launcher.py:2: FutureWarning: set_value is deprecated and will be removed in a future release. Please use .at[] or .iat[] accessors instead\n",
      "  \n"
     ]
    }
   ],
   "source": [
    "for i in index:\n",
    "    food_data.set_value(i,'meal_type', 'lunch')"
   ]
  },
  {
   "cell_type": "code",
   "execution_count": 84,
   "metadata": {},
   "outputs": [],
   "source": [
    "index = food_data[food_data.meal_type == 'meal']['id']"
   ]
  },
  {
   "cell_type": "code",
   "execution_count": 85,
   "metadata": {},
   "outputs": [
    {
     "name": "stderr",
     "output_type": "stream",
     "text": [
      "/home/hardik/hardik/lib/python3.6/site-packages/ipykernel_launcher.py:2: FutureWarning: set_value is deprecated and will be removed in a future release. Please use .at[] or .iat[] accessors instead\n",
      "  \n"
     ]
    }
   ],
   "source": [
    "for i in index:\n",
    "    food_data.set_value(i,'meal_type', 'dinner')"
   ]
  },
  {
   "cell_type": "code",
   "execution_count": 183,
   "metadata": {},
   "outputs": [],
   "source": [
    "food_data['food_type'] = 'Veg'"
   ]
  },
  {
   "cell_type": "code",
   "execution_count": 184,
   "metadata": {},
   "outputs": [],
   "source": [
    "index = food_data[food_data.food_name.str.contains(pat, flags=re.IGNORECASE, regex=True)].id"
   ]
  },
  {
   "cell_type": "code",
   "execution_count": 185,
   "metadata": {},
   "outputs": [
    {
     "name": "stderr",
     "output_type": "stream",
     "text": [
      "/home/hardik/hardik/lib/python3.6/site-packages/ipykernel_launcher.py:2: FutureWarning: set_value is deprecated and will be removed in a future release. Please use .at[] or .iat[] accessors instead\n",
      "  \n"
     ]
    }
   ],
   "source": [
    "for i in index:\n",
    "    food_data.set_value(i,'food_type', 'Non-Veg')"
   ]
  },
  {
   "cell_type": "code",
   "execution_count": 197,
   "metadata": {},
   "outputs": [],
   "source": [
    "index = food_data[food_data.type == 'meat'].id"
   ]
  },
  {
   "cell_type": "code",
   "execution_count": 198,
   "metadata": {},
   "outputs": [
    {
     "name": "stderr",
     "output_type": "stream",
     "text": [
      "/home/hardik/hardik/lib/python3.6/site-packages/ipykernel_launcher.py:2: FutureWarning: set_value is deprecated and will be removed in a future release. Please use .at[] or .iat[] accessors instead\n",
      "  \n"
     ]
    }
   ],
   "source": [
    "for i in index:\n",
    "    food_data.set_value(i,'food_type', 'Non-Veg')"
   ]
  },
  {
   "cell_type": "code",
   "execution_count": 199,
   "metadata": {},
   "outputs": [
    {
     "data": {
      "text/plain": [
       "Non-Veg    918\n",
       "Veg        383\n",
       "Name: food_type, dtype: int64"
      ]
     },
     "execution_count": 199,
     "metadata": {},
     "output_type": "execute_result"
    }
   ],
   "source": [
    "food_data['food_type'].value_counts()"
   ]
  },
  {
   "cell_type": "code",
   "execution_count": 187,
   "metadata": {},
   "outputs": [],
   "source": [
    "pat = 'Chicken|Egg|Meat|pork|beef|ham|Ham|Pork|turkey|Turkey|Salami|Tuna|Ribs|Bacon'\n",
    "pat += '|sausage|lamb|mutton|Mutton|Steak|fish|Fish|Sushi|Papparoni|lobster|shrimp|rabbit|salmon|Salmon|Shrimp'"
   ]
  },
  {
   "cell_type": "code",
   "execution_count": 200,
   "metadata": {},
   "outputs": [
    {
     "data": {
      "text/html": [
       "<div>\n",
       "<style scoped>\n",
       "    .dataframe tbody tr th:only-of-type {\n",
       "        vertical-align: middle;\n",
       "    }\n",
       "\n",
       "    .dataframe tbody tr th {\n",
       "        vertical-align: top;\n",
       "    }\n",
       "\n",
       "    .dataframe thead th {\n",
       "        text-align: right;\n",
       "    }\n",
       "</style>\n",
       "<table border=\"1\" class=\"dataframe\">\n",
       "  <thead>\n",
       "    <tr style=\"text-align: right;\">\n",
       "      <th></th>\n",
       "      <th>id</th>\n",
       "      <th>food_name</th>\n",
       "      <th>Calories</th>\n",
       "      <th>Carbs</th>\n",
       "      <th>Fat</th>\n",
       "      <th>Protein</th>\n",
       "      <th>Fiber</th>\n",
       "      <th>type</th>\n",
       "      <th>ingredients</th>\n",
       "      <th>meal_type</th>\n",
       "      <th>food_type</th>\n",
       "    </tr>\n",
       "  </thead>\n",
       "  <tbody>\n",
       "    <tr>\n",
       "      <th>222</th>\n",
       "      <td>222</td>\n",
       "      <td>Cheesy Spinach and Mushroom Lasagna Rolls</td>\n",
       "      <td>552</td>\n",
       "      <td>74.7 g</td>\n",
       "      <td>15.0 g</td>\n",
       "      <td>27.5 g</td>\n",
       "      <td>6.8 g</td>\n",
       "      <td>pasta</td>\n",
       "      <td>[]</td>\n",
       "      <td>lunch</td>\n",
       "      <td>Veg</td>\n",
       "    </tr>\n",
       "    <tr>\n",
       "      <th>168</th>\n",
       "      <td>168</td>\n",
       "      <td>Fettuccine alfredo</td>\n",
       "      <td>401</td>\n",
       "      <td>43.8 g</td>\n",
       "      <td>20.4 g</td>\n",
       "      <td>14.5 g</td>\n",
       "      <td>0.1 g</td>\n",
       "      <td>pasta</td>\n",
       "      <td>Heavy whipping cream, Butter, Pepper, Salt, Pa...</td>\n",
       "      <td>lunch</td>\n",
       "      <td>Veg</td>\n",
       "    </tr>\n",
       "    <tr>\n",
       "      <th>397</th>\n",
       "      <td>397</td>\n",
       "      <td>Sliced Baguette with Radishes and Anchovy Butter</td>\n",
       "      <td>247</td>\n",
       "      <td>36.7 g</td>\n",
       "      <td>7.3 g</td>\n",
       "      <td>8.8 g</td>\n",
       "      <td>1.9 g</td>\n",
       "      <td>sandwich</td>\n",
       "      <td>[]</td>\n",
       "      <td>breakfast</td>\n",
       "      <td>Veg</td>\n",
       "    </tr>\n",
       "    <tr>\n",
       "      <th>6</th>\n",
       "      <td>6</td>\n",
       "      <td>Jasmine Rice with Peanuts and Scallions</td>\n",
       "      <td>110</td>\n",
       "      <td>13.2 g</td>\n",
       "      <td>4.9 g</td>\n",
       "      <td>3.9 g</td>\n",
       "      <td>1.2 g</td>\n",
       "      <td>pasta</td>\n",
       "      <td>White rice, Scallions, Water, Chicken broth, P...</td>\n",
       "      <td>breakfast</td>\n",
       "      <td>Veg</td>\n",
       "    </tr>\n",
       "    <tr>\n",
       "      <th>134</th>\n",
       "      <td>134</td>\n",
       "      <td>Pea and Parmesan Wonton Ravioli</td>\n",
       "      <td>220</td>\n",
       "      <td>39.1 g</td>\n",
       "      <td>3.4 g</td>\n",
       "      <td>7.3 g</td>\n",
       "      <td>1.9 g</td>\n",
       "      <td>pasta</td>\n",
       "      <td>Peas, Butter, Wonton wrappers, Parmesan cheese...</td>\n",
       "      <td>breakfast</td>\n",
       "      <td>Veg</td>\n",
       "    </tr>\n",
       "    <tr>\n",
       "      <th>472</th>\n",
       "      <td>472</td>\n",
       "      <td>Sweet Grilled Cheese</td>\n",
       "      <td>471</td>\n",
       "      <td>33.7 g</td>\n",
       "      <td>28.6 g</td>\n",
       "      <td>20.5 g</td>\n",
       "      <td>3.4 g</td>\n",
       "      <td>sandwich</td>\n",
       "      <td>[]</td>\n",
       "      <td>lunch</td>\n",
       "      <td>Veg</td>\n",
       "    </tr>\n",
       "    <tr>\n",
       "      <th>305</th>\n",
       "      <td>305</td>\n",
       "      <td>Five Ingredient Pasta Toss</td>\n",
       "      <td>491</td>\n",
       "      <td>76.6 g</td>\n",
       "      <td>14.9 g</td>\n",
       "      <td>18.5 g</td>\n",
       "      <td>7.2 g</td>\n",
       "      <td>pasta</td>\n",
       "      <td>[]</td>\n",
       "      <td>lunch</td>\n",
       "      <td>Veg</td>\n",
       "    </tr>\n",
       "    <tr>\n",
       "      <th>191</th>\n",
       "      <td>191</td>\n",
       "      <td>Pastachutta</td>\n",
       "      <td>258</td>\n",
       "      <td>44.7 g</td>\n",
       "      <td>6.6 g</td>\n",
       "      <td>8.8 g</td>\n",
       "      <td>0.4 g</td>\n",
       "      <td>pasta</td>\n",
       "      <td>[]</td>\n",
       "      <td>breakfast</td>\n",
       "      <td>Veg</td>\n",
       "    </tr>\n",
       "    <tr>\n",
       "      <th>605</th>\n",
       "      <td>605</td>\n",
       "      <td>Bagel with Cream Cheese</td>\n",
       "      <td>315</td>\n",
       "      <td>57.8 g</td>\n",
       "      <td>4.0 g</td>\n",
       "      <td>12.2 g</td>\n",
       "      <td>2.6 g</td>\n",
       "      <td>sandwich</td>\n",
       "      <td>[]</td>\n",
       "      <td>lunch</td>\n",
       "      <td>Veg</td>\n",
       "    </tr>\n",
       "    <tr>\n",
       "      <th>373</th>\n",
       "      <td>373</td>\n",
       "      <td>Avocado Sandwich with Green Harissa</td>\n",
       "      <td>805</td>\n",
       "      <td>45.8 g</td>\n",
       "      <td>67.3 g</td>\n",
       "      <td>11.9 g</td>\n",
       "      <td>15.0 g</td>\n",
       "      <td>sandwich</td>\n",
       "      <td>[]</td>\n",
       "      <td>dinner</td>\n",
       "      <td>Veg</td>\n",
       "    </tr>\n",
       "  </tbody>\n",
       "</table>\n",
       "</div>"
      ],
      "text/plain": [
       "      id                                         food_name  Calories   Carbs  \\\n",
       "222  222         Cheesy Spinach and Mushroom Lasagna Rolls       552  74.7 g   \n",
       "168  168                                Fettuccine alfredo       401  43.8 g   \n",
       "397  397  Sliced Baguette with Radishes and Anchovy Butter       247  36.7 g   \n",
       "6      6           Jasmine Rice with Peanuts and Scallions       110  13.2 g   \n",
       "134  134                   Pea and Parmesan Wonton Ravioli       220  39.1 g   \n",
       "472  472                              Sweet Grilled Cheese       471  33.7 g   \n",
       "305  305                        Five Ingredient Pasta Toss       491  76.6 g   \n",
       "191  191                                       Pastachutta       258  44.7 g   \n",
       "605  605                           Bagel with Cream Cheese       315  57.8 g   \n",
       "373  373               Avocado Sandwich with Green Harissa       805  45.8 g   \n",
       "\n",
       "        Fat Protein   Fiber      type  \\\n",
       "222  15.0 g  27.5 g   6.8 g     pasta   \n",
       "168  20.4 g  14.5 g   0.1 g     pasta   \n",
       "397   7.3 g   8.8 g   1.9 g  sandwich   \n",
       "6     4.9 g   3.9 g   1.2 g     pasta   \n",
       "134   3.4 g   7.3 g   1.9 g     pasta   \n",
       "472  28.6 g  20.5 g   3.4 g  sandwich   \n",
       "305  14.9 g  18.5 g   7.2 g     pasta   \n",
       "191   6.6 g   8.8 g   0.4 g     pasta   \n",
       "605   4.0 g  12.2 g   2.6 g  sandwich   \n",
       "373  67.3 g  11.9 g  15.0 g  sandwich   \n",
       "\n",
       "                                           ingredients  meal_type food_type  \n",
       "222                                                 []      lunch       Veg  \n",
       "168  Heavy whipping cream, Butter, Pepper, Salt, Pa...      lunch       Veg  \n",
       "397                                                 []  breakfast       Veg  \n",
       "6    White rice, Scallions, Water, Chicken broth, P...  breakfast       Veg  \n",
       "134  Peas, Butter, Wonton wrappers, Parmesan cheese...  breakfast       Veg  \n",
       "472                                                 []      lunch       Veg  \n",
       "305                                                 []      lunch       Veg  \n",
       "191                                                 []  breakfast       Veg  \n",
       "605                                                 []      lunch       Veg  \n",
       "373                                                 []     dinner       Veg  "
      ]
     },
     "execution_count": 200,
     "metadata": {},
     "output_type": "execute_result"
    }
   ],
   "source": [
    "food_data[food_data['food_type'] == 'Veg'].sample(10)"
   ]
  },
  {
   "cell_type": "code",
   "execution_count": 201,
   "metadata": {},
   "outputs": [],
   "source": [
    "meals = food_data['id']"
   ]
  },
  {
   "cell_type": "code",
   "execution_count": 252,
   "metadata": {},
   "outputs": [
    {
     "data": {
      "text/plain": [
       "(1301,)"
      ]
     },
     "execution_count": 252,
     "metadata": {},
     "output_type": "execute_result"
    }
   ],
   "source": [
    "meals.shape"
   ]
  },
  {
   "cell_type": "code",
   "execution_count": 202,
   "metadata": {},
   "outputs": [],
   "source": [
    "users = np.arange(30)"
   ]
  },
  {
   "cell_type": "code",
   "execution_count": 208,
   "metadata": {},
   "outputs": [],
   "source": [
    "sex = np.random.randint(0,2,30)"
   ]
  },
  {
   "cell_type": "code",
   "execution_count": 213,
   "metadata": {},
   "outputs": [],
   "source": [
    "age = np.random.randint(18,64,30)"
   ]
  },
  {
   "cell_type": "code",
   "execution_count": 216,
   "metadata": {},
   "outputs": [],
   "source": [
    "height = np.random.randint(140, 200, 30)"
   ]
  },
  {
   "cell_type": "code",
   "execution_count": 220,
   "metadata": {},
   "outputs": [],
   "source": [
    "weight = np.random.randint(90,300,30)"
   ]
  },
  {
   "cell_type": "code",
   "execution_count": 243,
   "metadata": {},
   "outputs": [],
   "source": [
    "calorie_intake = np.random.randint(1200,3000,30)"
   ]
  },
  {
   "cell_type": "code",
   "execution_count": 244,
   "metadata": {},
   "outputs": [],
   "source": [
    "calorie_intake = np.round(calorie_intake/100)*100"
   ]
  },
  {
   "cell_type": "code",
   "execution_count": 246,
   "metadata": {},
   "outputs": [],
   "source": [
    "calorie_intake = calorie_intake.astype('int')"
   ]
  },
  {
   "cell_type": "code",
   "execution_count": 247,
   "metadata": {},
   "outputs": [],
   "source": [
    "activity = np.random.randint(0,3,30)"
   ]
  },
  {
   "cell_type": "code",
   "execution_count": 248,
   "metadata": {},
   "outputs": [
    {
     "data": {
      "text/plain": [
       "['users', 'sex', 'age', 'weight', 'height', 'calorie_intake', ' activity']"
      ]
     },
     "execution_count": 248,
     "metadata": {},
     "output_type": "execute_result"
    }
   ],
   "source": [
    "'users,sex,age,weight,height,calorie_intake, activity'.split(',')"
   ]
  },
  {
   "cell_type": "code",
   "execution_count": 280,
   "metadata": {},
   "outputs": [],
   "source": [
    "user_table = pd.DataFrame(np.column_stack([users,sex,age,weight,height,calorie_intake, activity]), columns=['users', 'sex', 'age', 'weight', 'height', 'calorie_intake', 'activity']\n",
    ")"
   ]
  },
  {
   "cell_type": "code",
   "execution_count": 286,
   "metadata": {},
   "outputs": [
    {
     "data": {
      "text/plain": [
       "Index(['users', 'sex', 'age', 'weight', 'height', 'calorie_intake',\n",
       "       'activity'],\n",
       "      dtype='object')"
      ]
     },
     "execution_count": 286,
     "metadata": {},
     "output_type": "execute_result"
    }
   ],
   "source": [
    "user_table.columns"
   ]
  },
  {
   "cell_type": "code",
   "execution_count": 287,
   "metadata": {},
   "outputs": [],
   "source": [
    "user_table = pd.concat([user_table,pd.get_dummies(user_table['activity'], prefix='activity')],axis=1)\n"
   ]
  },
  {
   "cell_type": "code",
   "execution_count": 289,
   "metadata": {},
   "outputs": [],
   "source": [
    "user_table = pd.concat([user_table,pd.get_dummies(user_table['sex'], prefix='sex')],axis=1)\n"
   ]
  },
  {
   "cell_type": "code",
   "execution_count": 291,
   "metadata": {},
   "outputs": [],
   "source": [
    "user_table.drop(['sex','activity'],axis=1,inplace=True)"
   ]
  },
  {
   "cell_type": "code",
   "execution_count": 306,
   "metadata": {},
   "outputs": [],
   "source": [
    "user_table.loc[0] = user_table.loc[1]\n",
    "\n",
    "user_table.loc[0]['users'] = 0\n",
    "\n",
    "user_table"
   ]
  },
  {
   "cell_type": "code",
   "execution_count": 308,
   "metadata": {},
   "outputs": [
    {
     "data": {
      "text/html": [
       "<div>\n",
       "<style scoped>\n",
       "    .dataframe tbody tr th:only-of-type {\n",
       "        vertical-align: middle;\n",
       "    }\n",
       "\n",
       "    .dataframe tbody tr th {\n",
       "        vertical-align: top;\n",
       "    }\n",
       "\n",
       "    .dataframe thead th {\n",
       "        text-align: right;\n",
       "    }\n",
       "</style>\n",
       "<table border=\"1\" class=\"dataframe\">\n",
       "  <thead>\n",
       "    <tr style=\"text-align: right;\">\n",
       "      <th></th>\n",
       "      <th>users</th>\n",
       "      <th>age</th>\n",
       "      <th>weight</th>\n",
       "      <th>height</th>\n",
       "      <th>calorie_intake</th>\n",
       "      <th>activity_0</th>\n",
       "      <th>activity_1</th>\n",
       "      <th>activity_2</th>\n",
       "      <th>sex_0</th>\n",
       "      <th>sex_1</th>\n",
       "    </tr>\n",
       "  </thead>\n",
       "  <tbody>\n",
       "    <tr>\n",
       "      <th>0</th>\n",
       "      <td>0</td>\n",
       "      <td>47</td>\n",
       "      <td>134</td>\n",
       "      <td>168</td>\n",
       "      <td>2100</td>\n",
       "      <td>0</td>\n",
       "      <td>1</td>\n",
       "      <td>0</td>\n",
       "      <td>0</td>\n",
       "      <td>1</td>\n",
       "    </tr>\n",
       "    <tr>\n",
       "      <th>1</th>\n",
       "      <td>1</td>\n",
       "      <td>47</td>\n",
       "      <td>134</td>\n",
       "      <td>168</td>\n",
       "      <td>2100</td>\n",
       "      <td>0</td>\n",
       "      <td>1</td>\n",
       "      <td>0</td>\n",
       "      <td>0</td>\n",
       "      <td>1</td>\n",
       "    </tr>\n",
       "    <tr>\n",
       "      <th>2</th>\n",
       "      <td>2</td>\n",
       "      <td>27</td>\n",
       "      <td>294</td>\n",
       "      <td>145</td>\n",
       "      <td>1200</td>\n",
       "      <td>0</td>\n",
       "      <td>0</td>\n",
       "      <td>1</td>\n",
       "      <td>1</td>\n",
       "      <td>0</td>\n",
       "    </tr>\n",
       "    <tr>\n",
       "      <th>3</th>\n",
       "      <td>3</td>\n",
       "      <td>47</td>\n",
       "      <td>134</td>\n",
       "      <td>168</td>\n",
       "      <td>2100</td>\n",
       "      <td>0</td>\n",
       "      <td>1</td>\n",
       "      <td>0</td>\n",
       "      <td>0</td>\n",
       "      <td>1</td>\n",
       "    </tr>\n",
       "    <tr>\n",
       "      <th>4</th>\n",
       "      <td>4</td>\n",
       "      <td>27</td>\n",
       "      <td>192</td>\n",
       "      <td>174</td>\n",
       "      <td>1600</td>\n",
       "      <td>1</td>\n",
       "      <td>0</td>\n",
       "      <td>0</td>\n",
       "      <td>0</td>\n",
       "      <td>1</td>\n",
       "    </tr>\n",
       "    <tr>\n",
       "      <th>5</th>\n",
       "      <td>5</td>\n",
       "      <td>46</td>\n",
       "      <td>245</td>\n",
       "      <td>184</td>\n",
       "      <td>2900</td>\n",
       "      <td>0</td>\n",
       "      <td>0</td>\n",
       "      <td>1</td>\n",
       "      <td>1</td>\n",
       "      <td>0</td>\n",
       "    </tr>\n",
       "    <tr>\n",
       "      <th>6</th>\n",
       "      <td>6</td>\n",
       "      <td>27</td>\n",
       "      <td>111</td>\n",
       "      <td>143</td>\n",
       "      <td>2700</td>\n",
       "      <td>1</td>\n",
       "      <td>0</td>\n",
       "      <td>0</td>\n",
       "      <td>1</td>\n",
       "      <td>0</td>\n",
       "    </tr>\n",
       "    <tr>\n",
       "      <th>7</th>\n",
       "      <td>7</td>\n",
       "      <td>19</td>\n",
       "      <td>295</td>\n",
       "      <td>151</td>\n",
       "      <td>1400</td>\n",
       "      <td>0</td>\n",
       "      <td>1</td>\n",
       "      <td>0</td>\n",
       "      <td>1</td>\n",
       "      <td>0</td>\n",
       "    </tr>\n",
       "    <tr>\n",
       "      <th>8</th>\n",
       "      <td>8</td>\n",
       "      <td>53</td>\n",
       "      <td>95</td>\n",
       "      <td>190</td>\n",
       "      <td>2400</td>\n",
       "      <td>1</td>\n",
       "      <td>0</td>\n",
       "      <td>0</td>\n",
       "      <td>1</td>\n",
       "      <td>0</td>\n",
       "    </tr>\n",
       "    <tr>\n",
       "      <th>9</th>\n",
       "      <td>9</td>\n",
       "      <td>25</td>\n",
       "      <td>229</td>\n",
       "      <td>177</td>\n",
       "      <td>2700</td>\n",
       "      <td>0</td>\n",
       "      <td>0</td>\n",
       "      <td>1</td>\n",
       "      <td>0</td>\n",
       "      <td>1</td>\n",
       "    </tr>\n",
       "    <tr>\n",
       "      <th>10</th>\n",
       "      <td>10</td>\n",
       "      <td>43</td>\n",
       "      <td>245</td>\n",
       "      <td>182</td>\n",
       "      <td>2200</td>\n",
       "      <td>0</td>\n",
       "      <td>0</td>\n",
       "      <td>1</td>\n",
       "      <td>1</td>\n",
       "      <td>0</td>\n",
       "    </tr>\n",
       "    <tr>\n",
       "      <th>11</th>\n",
       "      <td>11</td>\n",
       "      <td>54</td>\n",
       "      <td>148</td>\n",
       "      <td>171</td>\n",
       "      <td>1500</td>\n",
       "      <td>0</td>\n",
       "      <td>0</td>\n",
       "      <td>1</td>\n",
       "      <td>0</td>\n",
       "      <td>1</td>\n",
       "    </tr>\n",
       "    <tr>\n",
       "      <th>12</th>\n",
       "      <td>12</td>\n",
       "      <td>19</td>\n",
       "      <td>141</td>\n",
       "      <td>145</td>\n",
       "      <td>2600</td>\n",
       "      <td>1</td>\n",
       "      <td>0</td>\n",
       "      <td>0</td>\n",
       "      <td>1</td>\n",
       "      <td>0</td>\n",
       "    </tr>\n",
       "    <tr>\n",
       "      <th>13</th>\n",
       "      <td>13</td>\n",
       "      <td>45</td>\n",
       "      <td>243</td>\n",
       "      <td>165</td>\n",
       "      <td>2500</td>\n",
       "      <td>0</td>\n",
       "      <td>0</td>\n",
       "      <td>1</td>\n",
       "      <td>1</td>\n",
       "      <td>0</td>\n",
       "    </tr>\n",
       "    <tr>\n",
       "      <th>14</th>\n",
       "      <td>14</td>\n",
       "      <td>22</td>\n",
       "      <td>248</td>\n",
       "      <td>152</td>\n",
       "      <td>2100</td>\n",
       "      <td>1</td>\n",
       "      <td>0</td>\n",
       "      <td>0</td>\n",
       "      <td>0</td>\n",
       "      <td>1</td>\n",
       "    </tr>\n",
       "    <tr>\n",
       "      <th>15</th>\n",
       "      <td>15</td>\n",
       "      <td>34</td>\n",
       "      <td>106</td>\n",
       "      <td>143</td>\n",
       "      <td>2700</td>\n",
       "      <td>0</td>\n",
       "      <td>1</td>\n",
       "      <td>0</td>\n",
       "      <td>1</td>\n",
       "      <td>0</td>\n",
       "    </tr>\n",
       "    <tr>\n",
       "      <th>16</th>\n",
       "      <td>16</td>\n",
       "      <td>19</td>\n",
       "      <td>199</td>\n",
       "      <td>176</td>\n",
       "      <td>2800</td>\n",
       "      <td>1</td>\n",
       "      <td>0</td>\n",
       "      <td>0</td>\n",
       "      <td>0</td>\n",
       "      <td>1</td>\n",
       "    </tr>\n",
       "    <tr>\n",
       "      <th>17</th>\n",
       "      <td>17</td>\n",
       "      <td>30</td>\n",
       "      <td>293</td>\n",
       "      <td>154</td>\n",
       "      <td>1300</td>\n",
       "      <td>1</td>\n",
       "      <td>0</td>\n",
       "      <td>0</td>\n",
       "      <td>0</td>\n",
       "      <td>1</td>\n",
       "    </tr>\n",
       "    <tr>\n",
       "      <th>18</th>\n",
       "      <td>18</td>\n",
       "      <td>20</td>\n",
       "      <td>90</td>\n",
       "      <td>154</td>\n",
       "      <td>2100</td>\n",
       "      <td>1</td>\n",
       "      <td>0</td>\n",
       "      <td>0</td>\n",
       "      <td>0</td>\n",
       "      <td>1</td>\n",
       "    </tr>\n",
       "    <tr>\n",
       "      <th>19</th>\n",
       "      <td>19</td>\n",
       "      <td>32</td>\n",
       "      <td>217</td>\n",
       "      <td>170</td>\n",
       "      <td>1700</td>\n",
       "      <td>0</td>\n",
       "      <td>0</td>\n",
       "      <td>1</td>\n",
       "      <td>1</td>\n",
       "      <td>0</td>\n",
       "    </tr>\n",
       "    <tr>\n",
       "      <th>20</th>\n",
       "      <td>20</td>\n",
       "      <td>18</td>\n",
       "      <td>240</td>\n",
       "      <td>159</td>\n",
       "      <td>2200</td>\n",
       "      <td>1</td>\n",
       "      <td>0</td>\n",
       "      <td>0</td>\n",
       "      <td>1</td>\n",
       "      <td>0</td>\n",
       "    </tr>\n",
       "    <tr>\n",
       "      <th>21</th>\n",
       "      <td>21</td>\n",
       "      <td>19</td>\n",
       "      <td>196</td>\n",
       "      <td>167</td>\n",
       "      <td>3000</td>\n",
       "      <td>0</td>\n",
       "      <td>0</td>\n",
       "      <td>1</td>\n",
       "      <td>1</td>\n",
       "      <td>0</td>\n",
       "    </tr>\n",
       "    <tr>\n",
       "      <th>22</th>\n",
       "      <td>22</td>\n",
       "      <td>54</td>\n",
       "      <td>176</td>\n",
       "      <td>170</td>\n",
       "      <td>2300</td>\n",
       "      <td>1</td>\n",
       "      <td>0</td>\n",
       "      <td>0</td>\n",
       "      <td>1</td>\n",
       "      <td>0</td>\n",
       "    </tr>\n",
       "    <tr>\n",
       "      <th>23</th>\n",
       "      <td>23</td>\n",
       "      <td>29</td>\n",
       "      <td>284</td>\n",
       "      <td>185</td>\n",
       "      <td>1900</td>\n",
       "      <td>0</td>\n",
       "      <td>1</td>\n",
       "      <td>0</td>\n",
       "      <td>1</td>\n",
       "      <td>0</td>\n",
       "    </tr>\n",
       "    <tr>\n",
       "      <th>24</th>\n",
       "      <td>24</td>\n",
       "      <td>41</td>\n",
       "      <td>186</td>\n",
       "      <td>196</td>\n",
       "      <td>2200</td>\n",
       "      <td>0</td>\n",
       "      <td>1</td>\n",
       "      <td>0</td>\n",
       "      <td>0</td>\n",
       "      <td>1</td>\n",
       "    </tr>\n",
       "    <tr>\n",
       "      <th>25</th>\n",
       "      <td>25</td>\n",
       "      <td>53</td>\n",
       "      <td>215</td>\n",
       "      <td>149</td>\n",
       "      <td>2300</td>\n",
       "      <td>0</td>\n",
       "      <td>1</td>\n",
       "      <td>0</td>\n",
       "      <td>0</td>\n",
       "      <td>1</td>\n",
       "    </tr>\n",
       "    <tr>\n",
       "      <th>26</th>\n",
       "      <td>26</td>\n",
       "      <td>44</td>\n",
       "      <td>186</td>\n",
       "      <td>195</td>\n",
       "      <td>2000</td>\n",
       "      <td>1</td>\n",
       "      <td>0</td>\n",
       "      <td>0</td>\n",
       "      <td>1</td>\n",
       "      <td>0</td>\n",
       "    </tr>\n",
       "    <tr>\n",
       "      <th>27</th>\n",
       "      <td>27</td>\n",
       "      <td>28</td>\n",
       "      <td>270</td>\n",
       "      <td>147</td>\n",
       "      <td>1500</td>\n",
       "      <td>1</td>\n",
       "      <td>0</td>\n",
       "      <td>0</td>\n",
       "      <td>1</td>\n",
       "      <td>0</td>\n",
       "    </tr>\n",
       "    <tr>\n",
       "      <th>28</th>\n",
       "      <td>28</td>\n",
       "      <td>35</td>\n",
       "      <td>228</td>\n",
       "      <td>196</td>\n",
       "      <td>2200</td>\n",
       "      <td>1</td>\n",
       "      <td>0</td>\n",
       "      <td>0</td>\n",
       "      <td>1</td>\n",
       "      <td>0</td>\n",
       "    </tr>\n",
       "    <tr>\n",
       "      <th>29</th>\n",
       "      <td>29</td>\n",
       "      <td>33</td>\n",
       "      <td>142</td>\n",
       "      <td>160</td>\n",
       "      <td>1600</td>\n",
       "      <td>0</td>\n",
       "      <td>0</td>\n",
       "      <td>1</td>\n",
       "      <td>1</td>\n",
       "      <td>0</td>\n",
       "    </tr>\n",
       "  </tbody>\n",
       "</table>\n",
       "</div>"
      ],
      "text/plain": [
       "    users  age  weight  height  calorie_intake  activity_0  activity_1  \\\n",
       "0       0   47     134     168            2100           0           1   \n",
       "1       1   47     134     168            2100           0           1   \n",
       "2       2   27     294     145            1200           0           0   \n",
       "3       3   47     134     168            2100           0           1   \n",
       "4       4   27     192     174            1600           1           0   \n",
       "5       5   46     245     184            2900           0           0   \n",
       "6       6   27     111     143            2700           1           0   \n",
       "7       7   19     295     151            1400           0           1   \n",
       "8       8   53      95     190            2400           1           0   \n",
       "9       9   25     229     177            2700           0           0   \n",
       "10     10   43     245     182            2200           0           0   \n",
       "11     11   54     148     171            1500           0           0   \n",
       "12     12   19     141     145            2600           1           0   \n",
       "13     13   45     243     165            2500           0           0   \n",
       "14     14   22     248     152            2100           1           0   \n",
       "15     15   34     106     143            2700           0           1   \n",
       "16     16   19     199     176            2800           1           0   \n",
       "17     17   30     293     154            1300           1           0   \n",
       "18     18   20      90     154            2100           1           0   \n",
       "19     19   32     217     170            1700           0           0   \n",
       "20     20   18     240     159            2200           1           0   \n",
       "21     21   19     196     167            3000           0           0   \n",
       "22     22   54     176     170            2300           1           0   \n",
       "23     23   29     284     185            1900           0           1   \n",
       "24     24   41     186     196            2200           0           1   \n",
       "25     25   53     215     149            2300           0           1   \n",
       "26     26   44     186     195            2000           1           0   \n",
       "27     27   28     270     147            1500           1           0   \n",
       "28     28   35     228     196            2200           1           0   \n",
       "29     29   33     142     160            1600           0           0   \n",
       "\n",
       "    activity_2  sex_0  sex_1  \n",
       "0            0      0      1  \n",
       "1            0      0      1  \n",
       "2            1      1      0  \n",
       "3            0      0      1  \n",
       "4            0      0      1  \n",
       "5            1      1      0  \n",
       "6            0      1      0  \n",
       "7            0      1      0  \n",
       "8            0      1      0  \n",
       "9            1      0      1  \n",
       "10           1      1      0  \n",
       "11           1      0      1  \n",
       "12           0      1      0  \n",
       "13           1      1      0  \n",
       "14           0      0      1  \n",
       "15           0      1      0  \n",
       "16           0      0      1  \n",
       "17           0      0      1  \n",
       "18           0      0      1  \n",
       "19           1      1      0  \n",
       "20           0      1      0  \n",
       "21           1      1      0  \n",
       "22           0      1      0  \n",
       "23           0      1      0  \n",
       "24           0      0      1  \n",
       "25           0      0      1  \n",
       "26           0      1      0  \n",
       "27           0      1      0  \n",
       "28           0      1      0  \n",
       "29           1      1      0  "
      ]
     },
     "execution_count": 308,
     "metadata": {},
     "output_type": "execute_result"
    }
   ],
   "source": [
    "user_table.loc[3] = user_table.loc[1]\n",
    "\n",
    "user_table.loc[3]['users'] = 3\n",
    "\n",
    "user_table"
   ]
  },
  {
   "cell_type": "code",
   "execution_count": null,
   "metadata": {},
   "outputs": [],
   "source": [
    "[29,33,142,160,1600,0,0,1,1,0]"
   ]
  },
  {
   "cell_type": "code",
   "execution_count": 253,
   "metadata": {},
   "outputs": [],
   "source": [
    "break_fast_index = food_data[food_data['meal_type'] == 'breakfast'].sample(20)['id']"
   ]
  },
  {
   "cell_type": "code",
   "execution_count": 254,
   "metadata": {},
   "outputs": [],
   "source": [
    "lunch_index = food_data[food_data['meal_type'] == 'lunch'].sample(20)['id']"
   ]
  },
  {
   "cell_type": "code",
   "execution_count": 255,
   "metadata": {},
   "outputs": [],
   "source": [
    "dinner_index = food_data[food_data['meal_type'] == 'dinner'].sample(20)['id']"
   ]
  },
  {
   "cell_type": "code",
   "execution_count": 257,
   "metadata": {},
   "outputs": [],
   "source": [
    "meals = []"
   ]
  },
  {
   "cell_type": "code",
   "execution_count": 259,
   "metadata": {},
   "outputs": [],
   "source": [
    "for user in user_table['users']:\n",
    "    for bf in break_fast_index.sample(7):\n",
    "        meals.append([user,bf])\n",
    "    \n",
    "    for bf in lunch_index.sample(7):\n",
    "        meals.append([user,bf])\n",
    "    for bf in dinner_index.sample(7):\n",
    "        meals.append([user,bf])  "
   ]
  },
  {
   "cell_type": "code",
   "execution_count": 342,
   "metadata": {},
   "outputs": [],
   "source": [
    "meals_df = pd.DataFrame(meals,columns=['user_id','meal_id'])"
   ]
  },
  {
   "cell_type": "code",
   "execution_count": 343,
   "metadata": {},
   "outputs": [],
   "source": [
    "meals_df['ratings'] = np.random.randint(4,11,630)"
   ]
  },
  {
   "cell_type": "code",
   "execution_count": 345,
   "metadata": {},
   "outputs": [],
   "source": [
    "meals_df = pd.merge(meals_df, food_data, left_on='meal_id', right_on='id', how='inner')"
   ]
  },
  {
   "cell_type": "code",
   "execution_count": 346,
   "metadata": {},
   "outputs": [
    {
     "data": {
      "text/plain": [
       "Index(['user_id', 'meal_id', 'ratings', 'id', 'food_name', 'Calories', 'Carbs',\n",
       "       'Fat', 'Protein', 'Fiber', 'type', 'ingredients', 'meal_type',\n",
       "       'food_type'],\n",
       "      dtype='object')"
      ]
     },
     "execution_count": 346,
     "metadata": {},
     "output_type": "execute_result"
    }
   ],
   "source": [
    "meals_df.columns"
   ]
  },
  {
   "cell_type": "code",
   "execution_count": 347,
   "metadata": {},
   "outputs": [],
   "source": [
    "meals_df = meals_df[['user_id', 'meal_id', 'ratings','meal_type']]"
   ]
  },
  {
   "cell_type": "code",
   "execution_count": 311,
   "metadata": {},
   "outputs": [],
   "source": [
    "train = user_table.drop('users',axis=1)"
   ]
  },
  {
   "cell_type": "code",
   "execution_count": 312,
   "metadata": {},
   "outputs": [],
   "source": [
    "kmeans = KMeans(n_clusters=5, random_state=0).fit(train) #Using K-means clustering for the genres in this case\n",
    "\n",
    "kl = kmeans.labels_"
   ]
  },
  {
   "cell_type": "code",
   "execution_count": 326,
   "metadata": {},
   "outputs": [],
   "source": [
    "result = kmeans.predict([[64,200,180,3000,0,1,1,0,0]])"
   ]
  },
  {
   "cell_type": "code",
   "execution_count": 376,
   "metadata": {},
   "outputs": [],
   "source": [
    "selected_meals = pd.merge(user_table[user_table.cluster == result[0]], meals_df, left_on='users', right_on='user_id', how='inner')"
   ]
  },
  {
   "cell_type": "code",
   "execution_count": 377,
   "metadata": {},
   "outputs": [],
   "source": [
    "selected_meals = selected_meals[['user_id','meal_id','ratings', 'meal_type']]"
   ]
  },
  {
   "cell_type": "code",
   "execution_count": 378,
   "metadata": {},
   "outputs": [],
   "source": [
    "breakfast_meals = selected_meals[selected_meals.meal_type == 'breakfast'].sort_values(by='ratings', ascending=False)"
   ]
  },
  {
   "cell_type": "code",
   "execution_count": 379,
   "metadata": {},
   "outputs": [],
   "source": [
    "breakfast_meals.drop_duplicates('meal_id', inplace=True, keep='first')"
   ]
  },
  {
   "cell_type": "code",
   "execution_count": 380,
   "metadata": {},
   "outputs": [
    {
     "data": {
      "text/plain": [
       "[632, 268, 645, 961, 1112, 969, 1161]"
      ]
     },
     "execution_count": 380,
     "metadata": {},
     "output_type": "execute_result"
    }
   ],
   "source": [
    "list(breakfast_meals.head(7)['meal_id'])"
   ]
  },
  {
   "cell_type": "code",
   "execution_count": 381,
   "metadata": {},
   "outputs": [],
   "source": [
    "lunch_meals = selected_meals[selected_meals.meal_type == 'lunch'].sort_values(by='ratings', ascending=False)"
   ]
  },
  {
   "cell_type": "code",
   "execution_count": 382,
   "metadata": {},
   "outputs": [],
   "source": [
    "lunch_meals.drop_duplicates('meal_id', inplace=True, keep='first')"
   ]
  },
  {
   "cell_type": "code",
   "execution_count": 383,
   "metadata": {},
   "outputs": [
    {
     "data": {
      "text/plain": [
       "[617, 406, 842, 606, 822, 864, 128]"
      ]
     },
     "execution_count": 383,
     "metadata": {},
     "output_type": "execute_result"
    }
   ],
   "source": [
    "list(lunch_meals.head(7)['meal_id'])"
   ]
  },
  {
   "cell_type": "code",
   "execution_count": 387,
   "metadata": {},
   "outputs": [],
   "source": [
    "dinner_meals = selected_meals[selected_meals.meal_type == 'dinner'].sort_values(by='ratings', ascending=False)"
   ]
  },
  {
   "cell_type": "code",
   "execution_count": 388,
   "metadata": {},
   "outputs": [],
   "source": [
    "dinner_meals.drop_duplicates('meal_id', inplace=True, keep='first')"
   ]
  },
  {
   "cell_type": "code",
   "execution_count": 389,
   "metadata": {},
   "outputs": [
    {
     "data": {
      "text/plain": [
       "[778, 903, 886, 1277, 227, 199, 307]"
      ]
     },
     "execution_count": 389,
     "metadata": {},
     "output_type": "execute_result"
    }
   ],
   "source": [
    "list(dinner_meals.head(7)['meal_id'])"
   ]
  },
  {
   "cell_type": "code",
   "execution_count": null,
   "metadata": {},
   "outputs": [],
   "source": []
  }
 ],
 "metadata": {
  "kernelspec": {
   "display_name": "Python 3",
   "language": "python",
   "name": "python3"
  },
  "language_info": {
   "codemirror_mode": {
    "name": "ipython",
    "version": 3
   },
   "file_extension": ".py",
   "mimetype": "text/x-python",
   "name": "python",
   "nbconvert_exporter": "python",
   "pygments_lexer": "ipython3",
   "version": "3.6.8"
  }
 },
 "nbformat": 4,
 "nbformat_minor": 2
}
