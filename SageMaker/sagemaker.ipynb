{
 "cells": [
  {
   "cell_type": "code",
   "execution_count": 324,
   "metadata": {},
   "outputs": [],
   "source": [
    "import pandas as pd\n",
    "import numpy as np\n",
    "import re\n",
    "import sagemaker\n",
    "import boto3"
   ]
  },
  {
   "cell_type": "code",
   "execution_count": 325,
   "metadata": {},
   "outputs": [],
   "source": [
    "from sagemaker import get_execution_role\n",
    "role = get_execution_role()"
   ]
  },
  {
   "cell_type": "code",
   "execution_count": 326,
   "metadata": {},
   "outputs": [],
   "source": [
    "s3 = boto3.client('s3')"
   ]
  },
  {
   "cell_type": "code",
   "execution_count": 327,
   "metadata": {},
   "outputs": [],
   "source": [
    "user_table_file = s3.get_object(Bucket='mymacrochefhj', Key='Resources/Data/kmeans_output_users_cluster.csv')\n",
    "user_table = pd.read_csv(user_table_file['Body'])"
   ]
  },
  {
   "cell_type": "code",
   "execution_count": 328,
   "metadata": {},
   "outputs": [],
   "source": [
    "if 'cluster' in list(user_table.columns):\n",
    "    user_table.drop('cluster',axis=1,inplace=True)"
   ]
  },
  {
   "cell_type": "code",
   "execution_count": 329,
   "metadata": {},
   "outputs": [],
   "source": [
    "from sagemaker import KMeans"
   ]
  },
  {
   "cell_type": "code",
   "execution_count": 330,
   "metadata": {},
   "outputs": [],
   "source": [
    "num_clusters = 30\n",
    "kmeans = KMeans(role=role,\n",
    "                train_instance_count=1,\n",
    "                train_instance_type='ml.c4.xlarge',\n",
    "                output_path='s3://sagemakeroutputhj/',              \n",
    "                k=num_clusters)"
   ]
  },
  {
   "cell_type": "code",
   "execution_count": 331,
   "metadata": {},
   "outputs": [],
   "source": [
    "train_data = np.array(user_table.drop('user_id',axis=1)).astype('float32')"
   ]
  },
  {
   "cell_type": "code",
   "execution_count": null,
   "metadata": {},
   "outputs": [
    {
     "name": "stdout",
     "output_type": "stream",
     "text": [
      "2019-12-21 03:51:07 Starting - Starting the training job.."
     ]
    }
   ],
   "source": [
    "%%time\n",
    "kmeans.fit(kmeans.record_set(train_data))"
   ]
  },
  {
   "cell_type": "code",
   "execution_count": null,
   "metadata": {},
   "outputs": [],
   "source": [
    "%%time\n",
    "kmeans_predictor = kmeans.deploy(initial_instance_count=1, \n",
    "                                 instance_type='ml.t2.medium')"
   ]
  },
  {
   "cell_type": "code",
   "execution_count": 71,
   "metadata": {},
   "outputs": [],
   "source": [
    "result=kmeans_predictor.predict(train_data)"
   ]
  },
  {
   "cell_type": "code",
   "execution_count": 72,
   "metadata": {},
   "outputs": [],
   "source": [
    "res1 = []\n",
    "for i in range(len(result)):\n",
    "    res1.append(result[i].label['closest_cluster'].float32_tensor.values[0])"
   ]
  },
  {
   "cell_type": "code",
   "execution_count": 74,
   "metadata": {},
   "outputs": [],
   "source": [
    "user_table['cluster'] = res1"
   ]
  },
  {
   "cell_type": "code",
   "execution_count": 75,
   "metadata": {},
   "outputs": [],
   "source": [
    "user_table.to_csv('kmeans_output_users_cluster.csv', header=True, index=False)"
   ]
  },
  {
   "cell_type": "code",
   "execution_count": null,
   "metadata": {},
   "outputs": [],
   "source": [
    "user_table.loc[0].values"
   ]
  },
  {
   "cell_type": "code",
   "execution_count": 70,
   "metadata": {},
   "outputs": [
    {
     "data": {
      "text/plain": [
       "'kmeans-2019-12-17-23-25-25-039'"
      ]
     },
     "execution_count": 70,
     "metadata": {},
     "output_type": "execute_result"
    }
   ],
   "source": [
    "kmeans_predictor.endpoint"
   ]
  },
  {
   "cell_type": "markdown",
   "metadata": {},
   "source": [
    "sagemaker.Session().delete_endpoint(kmeans_predictor.endpoint)"
   ]
  },
  {
   "cell_type": "code",
   "execution_count": 291,
   "metadata": {},
   "outputs": [
    {
     "name": "stdout",
     "output_type": "stream",
     "text": [
      "   user_id  meal_id  ratings  meal_type\n",
      "0        0     3793        6  breakfast\n",
      "1        5     3793        4  breakfast\n",
      "2        8     3793        8  breakfast\n"
     ]
    }
   ],
   "source": [
    "result = {'predictions': [{'distance_to_cluster': 31.28098487854004, 'closest_cluster': 4.0}]}\n",
    "clusterfile = s3.get_object(Bucket='mymacrochefhj', Key='Resources/Data/kmeans_output_users_cluster.csv')\n",
    "clusterDF = pd.read_csv(clusterfile['Body'])\n",
    "predicted_cluster = result['predictions'][0]['closest_cluster']\n",
    "newclusterDF = clusterDF[clusterDF['cluster'] == predicted_cluster]\n",
    "# print (clusterDF[clusterDF['cluster'] == predicted_cluster]['user_id'].head(10))\n",
    "mealsfile = s3.get_object(Bucket='mymacrochefhj', Key='Resources/Data/final_meals.csv')\n",
    "mealsDF = pd.read_csv(mealsfile['Body'])\n",
    "ratingfile = s3.get_object(Bucket='mymacrochefhj', Key='Resources/Data/meals_data.csv')\n",
    "ratingDF = pd.read_csv(ratingfile['Body'])\n",
    "print(ratingDF.head(3))"
   ]
  },
  {
   "cell_type": "code",
   "execution_count": 256,
   "metadata": {},
   "outputs": [],
   "source": [
    "a = 'vegan, ovovegan, lacvegan, lacovovegan, pesce'"
   ]
  },
  {
   "cell_type": "code",
   "execution_count": 257,
   "metadata": {},
   "outputs": [
    {
     "data": {
      "text/plain": [
       "['vegan', 'ovovegan', 'lacvegan', 'lacovovegan', 'pesce']"
      ]
     },
     "execution_count": 257,
     "metadata": {},
     "output_type": "execute_result"
    }
   ],
   "source": [
    "a.split(', ')"
   ]
  },
  {
   "cell_type": "code",
   "execution_count": 258,
   "metadata": {},
   "outputs": [],
   "source": [
    "mealsDF.columns = ['meal_id', 'name', 'meal_type', 'vegan', 'ovovegan', 'lacvegan', 'lacovovegan', 'pesce']"
   ]
  },
  {
   "cell_type": "code",
   "execution_count": 198,
   "metadata": {},
   "outputs": [],
   "source": [
    "shellfish=['shrimp','prawn','crawfish','lobster','squid','scallop']\n",
    "soy=['soybean','soy milk','soy sauce']\n",
    "milk=['milk','cheese','butter','margarine','yogurt','cream']\n",
    "egg=[\"egg\"]\n",
    "peanut=['peanut']\n",
    "treenut=['nut','almond','cashew','pistachio']\n",
    "wheat=['dough','crust','bread','flour']\n",
    "fish=['fish']\n",
    "diabetic=['sugar','chocolate','ice cream']\n",
    "gluten=['wheat','barley','rye','oats','dough','crust','bread']\n",
    "glutenfree=['rice flour']\n",
    "seafood=['swordfish','tuna','shark','whale','cod','dolphin','salmon','sardine','catfish','eel','anchovy','shrimp','crab','lobster','krill','jellyfish','octopus','clam','oyster','squid','seaweed','prawn','crawfish','scallop']\n",
    "redmeat=['horse','pork','beef','bison','lamb','bacon','ham','sausage','buffalo','ostrich','venison','salami','mutton','goat']\n",
    "whitemeat=['chicken','duck','turkey','goose','pigeon','quail','rabbit','squab','snake','veal']"
   ]
  },
  {
   "cell_type": "code",
   "execution_count": 199,
   "metadata": {},
   "outputs": [],
   "source": [
    "food_data['shellfish'] = food_data.ingredients.str.contains('|'.join(shellfish), case=False) * 1\n",
    "food_data['soy'] = food_data.ingredients.str.contains('|'.join(soy), case=False) * 1\n",
    "food_data['milk'] = food_data.ingredients.str.contains('|'.join(milk), case=False) * 1\n",
    "food_data['egg'] = food_data.ingredients.str.contains('|'.join(egg), case=False) * 1\n",
    "food_data['peanut'] = food_data.ingredients.str.contains('|'.join(peanut), case=False) * 1\n",
    "food_data['treenut'] = food_data.ingredients.str.contains('|'.join(treenut), case=False) * 1\n",
    "food_data['wheat'] = food_data.ingredients.str.contains('|'.join(wheat), case=False) * 1\n",
    "food_data['fish'] = food_data.ingredients.str.contains('|'.join(fish), case=False) * 1\n",
    "food_data['diabetic'] = food_data.ingredients.str.contains('|'.join(diabetic), case=False) * 1\n",
    "food_data['gluten'] = food_data.ingredients.str.contains('|'.join(gluten), case=False) * 1\n",
    "food_data['glutenfree'] = food_data.ingredients.str.contains('|'.join(glutenfree), case=False) * 1\n",
    "food_data['seafood'] = food_data.ingredients.str.contains('|'.join(seafood), case=False) * 1\n",
    "food_data['redmeat'] = food_data.ingredients.str.contains('|'.join(redmeat), case=False) * 1\n",
    "food_data['whitemeat'] = food_data.ingredients.str.contains('|'.join(whitemeat), case=False) * 1"
   ]
  },
  {
   "cell_type": "code",
   "execution_count": 201,
   "metadata": {},
   "outputs": [],
   "source": [
    "mealsDF = food_data.copy()"
   ]
  },
  {
   "cell_type": "code",
   "execution_count": 202,
   "metadata": {},
   "outputs": [
    {
     "data": {
      "text/plain": [
       "(4431, 20)"
      ]
     },
     "execution_count": 202,
     "metadata": {},
     "output_type": "execute_result"
    }
   ],
   "source": [
    "mealsDF[mealsDF['meal_type'] == 'snack'].shape"
   ]
  },
  {
   "cell_type": "code",
   "execution_count": null,
   "metadata": {},
   "outputs": [],
   "source": [
    "vegan =  no milk and nonveg , no egg row['egg'] or row['fish'] or row['seafood'] or row['redmeat'] or row['whitemeat']\n",
    "lac veg = milk + vegan\n",
    "ovo veg = egg +  vegan\n",
    "ovo lac veg = egg + milk + vegan\n",
    "pescetarian = fish + seafood + vegan"
   ]
  },
  {
   "cell_type": "code",
   "execution_count": 205,
   "metadata": {},
   "outputs": [],
   "source": [
    "def vegan(row):\n",
    "    if row['egg'] or row['fish'] or row['seafood'] or row['redmeat'] or row['whitemeat'] or row['milk'] or row['shellfish']:\n",
    "        return 0\n",
    "    return 1"
   ]
  },
  {
   "cell_type": "code",
   "execution_count": 206,
   "metadata": {},
   "outputs": [],
   "source": [
    "mealsDF['vegan'] = mealsDF.apply(vegan, axis=1)"
   ]
  },
  {
   "cell_type": "code",
   "execution_count": 207,
   "metadata": {},
   "outputs": [],
   "source": [
    "def lac_vegan(row):\n",
    "    if row['vegan'] or row['milk'] and not (row['egg'] or row['fish'] or row['seafood'] or row['redmeat'] or row['whitemeat'] or row['shellfish']):\n",
    "        return 1\n",
    "    return 0"
   ]
  },
  {
   "cell_type": "code",
   "execution_count": 208,
   "metadata": {},
   "outputs": [],
   "source": [
    "mealsDF['lac_vegan'] = mealsDF.apply(lac_vegan, axis=1)"
   ]
  },
  {
   "cell_type": "code",
   "execution_count": 209,
   "metadata": {},
   "outputs": [],
   "source": [
    "def ovo_vegan(row):\n",
    "    if row['vegan'] or row['egg'] and not (row['milk'] or row['fish'] or row['seafood'] or row['redmeat'] or row['whitemeat'] or row['shellfish']):\n",
    "        return 1\n",
    "    return 0"
   ]
  },
  {
   "cell_type": "code",
   "execution_count": 210,
   "metadata": {},
   "outputs": [],
   "source": [
    "mealsDF['ovo_vegan'] = mealsDF.apply(ovo_vegan, axis=1)"
   ]
  },
  {
   "cell_type": "code",
   "execution_count": 211,
   "metadata": {},
   "outputs": [],
   "source": [
    "def ovo_lac_vegan(row):\n",
    "    if row['vegan'] or row['milk'] or row['egg'] and not (row['fish'] or row['seafood'] or row['redmeat'] or row['whitemeat'] or row['shellfish']):\n",
    "        return 1\n",
    "    return 0"
   ]
  },
  {
   "cell_type": "code",
   "execution_count": 212,
   "metadata": {},
   "outputs": [],
   "source": [
    "mealsDF['ovo_lac_vegan'] = mealsDF.apply(ovo_lac_vegan, axis=1)"
   ]
  },
  {
   "cell_type": "code",
   "execution_count": 213,
   "metadata": {},
   "outputs": [],
   "source": [
    "def pescetarian(row):\n",
    "    if row['vegan'] or row['fish'] or row['seafood'] and not (row['egg'] or row['milk'] or row['redmeat'] or row['whitemeat'] or row['shellfish']):\n",
    "        return 1\n",
    "    return 0"
   ]
  },
  {
   "cell_type": "code",
   "execution_count": 214,
   "metadata": {},
   "outputs": [],
   "source": [
    "mealsDF['pescetarian'] = mealsDF.apply(pescetarian, axis=1)"
   ]
  },
  {
   "cell_type": "code",
   "execution_count": 266,
   "metadata": {},
   "outputs": [
    {
     "data": {
      "text/plain": [
       "Index(['meal_id', 'name', 'meal_type', 'vegan', 'lac_vegan', 'ovo_vegan',\n",
       "       'ovo_lac_vegan', 'pescetarian'],\n",
       "      dtype='object')"
      ]
     },
     "execution_count": 266,
     "metadata": {},
     "output_type": "execute_result"
    }
   ],
   "source": [
    "tempDF.columns"
   ]
  },
  {
   "cell_type": "code",
   "execution_count": 292,
   "metadata": {},
   "outputs": [
    {
     "data": {
      "text/plain": [
       "Index(['meal_id', 'name', 'meal_type', 'vegan', 'ovovegan', 'lacvegan',\n",
       "       'lacovovegan', 'pesce'],\n",
       "      dtype='object')"
      ]
     },
     "execution_count": 292,
     "metadata": {},
     "output_type": "execute_result"
    }
   ],
   "source": [
    "mealsDF.columns"
   ]
  },
  {
   "cell_type": "code",
   "execution_count": 218,
   "metadata": {},
   "outputs": [],
   "source": [
    "from io import StringIO"
   ]
  },
  {
   "cell_type": "code",
   "execution_count": 261,
   "metadata": {},
   "outputs": [],
   "source": [
    "csv_buffer = StringIO()\n",
    "mealsDF.to_csv(csv_buffer, index=False)"
   ]
  },
  {
   "cell_type": "code",
   "execution_count": 263,
   "metadata": {},
   "outputs": [],
   "source": [
    "t = s3.put_object(Bucket='mymacrochefhj', Key='Resources/Data/final_meals.csv', Body=csv_buffer.getvalue())"
   ]
  },
  {
   "cell_type": "code",
   "execution_count": 295,
   "metadata": {},
   "outputs": [],
   "source": [
    "temp = s3.get_object(Bucket='mymacrochefhj', Key='Resources/Data/final_meals.csv')\n",
    "temp = pd.read_csv(temp['Body'])"
   ]
  },
  {
   "cell_type": "code",
   "execution_count": 297,
   "metadata": {},
   "outputs": [
    {
     "name": "stdout",
     "output_type": "stream",
     "text": [
      "Index(['user_id', 'meal_id', 'ratings', 'name', 'meal_type', 'vegan',\n",
      "       'ovovegan', 'lacvegan', 'lacovovegan', 'pesce'],\n",
      "      dtype='object')\n",
      "(1387, 10)\n",
      "(17, 10)\n",
      "(12, 10)\n",
      "(7, 10)\n",
      "(15, 10)\n",
      "\n",
      "\n",
      "\n",
      "\n",
      "Index(['user_id', 'meal_id', 'ratings', 'name', 'meal_type', 'vegan',\n",
      "       'ovovegan', 'lacvegan', 'lacovovegan', 'pesce'],\n",
      "      dtype='object')\n",
      "(2510, 10)\n",
      "(27, 10)\n",
      "(22, 10)\n",
      "(12, 10)\n",
      "(33, 10)\n",
      "\n",
      "\n",
      "\n",
      "\n",
      "Index(['user_id', 'meal_id', 'ratings', 'name', 'meal_type', 'vegan',\n",
      "       'ovovegan', 'lacvegan', 'lacovovegan', 'pesce'],\n",
      "      dtype='object')\n",
      "(1776, 10)\n",
      "(21, 10)\n",
      "(16, 10)\n",
      "(9, 10)\n",
      "(19, 10)\n",
      "\n",
      "\n",
      "\n",
      "\n",
      "Index(['user_id', 'meal_id', 'ratings', 'name', 'meal_type', 'vegan',\n",
      "       'ovovegan', 'lacvegan', 'lacovovegan', 'pesce'],\n",
      "      dtype='object')\n",
      "(7667, 10)\n",
      "(75, 10)\n",
      "(68, 10)\n",
      "(57, 10)\n",
      "(87, 10)\n",
      "\n",
      "\n",
      "\n",
      "\n",
      "Index(['user_id', 'meal_id', 'ratings', 'name', 'meal_type', 'vegan',\n",
      "       'ovovegan', 'lacvegan', 'lacovovegan', 'pesce'],\n",
      "      dtype='object')\n",
      "(2114, 10)\n",
      "(21, 10)\n",
      "(20, 10)\n",
      "(16, 10)\n",
      "(22, 10)\n",
      "\n",
      "\n",
      "\n",
      "\n"
     ]
    }
   ],
   "source": [
    "for d in ['vegan', 'ovovegan', 'lacvegan', 'lacovovegan', 'pesce']:\n",
    "    selected_meals = pd.merge(newclusterDF, ratingDF, left_on='user_id', right_on='user_id', how='inner')\n",
    "    selected_meals = selected_meals[['user_id','meal_id','ratings']]\n",
    "    selected_meals = pd.merge(selected_meals, temp, left_on='meal_id', right_on='meal_id', how='inner')\n",
    "    print(selected_meals.columns)\n",
    "    selected_meals = selected_meals[selected_meals[d] == 1]\n",
    "    print(selected_meals.shape)\n",
    "    breakfast_meals = selected_meals[selected_meals.meal_type == 'breakfast'].sort_values(by='ratings', ascending=False)\n",
    "\n",
    "    breakfast_meals.drop_duplicates('meal_id', inplace=True, keep='first')\n",
    "    print(breakfast_meals.shape)\n",
    "\n",
    "    b = list(breakfast_meals.head(28)['meal_id'])\n",
    "    bf_meals = []\n",
    "    for i in b:\n",
    "        bf_meals.append(mealsDF[mealsDF['meal_id']==i]['name'].values[0])\n",
    "    lunch_meals = selected_meals[selected_meals.meal_type == 'lunch'].sort_values(by='ratings', ascending=False)\n",
    "\n",
    "    lunch_meals.drop_duplicates('meal_id', inplace=True, keep='first')\n",
    "    print(lunch_meals.shape)\n",
    "\n",
    "    l = list(lunch_meals.head(28)['meal_id'])\n",
    "    l_meals = []\n",
    "    for i in l:\n",
    "        l_meals.append(mealsDF[mealsDF['meal_id']==i]['name'].values[0])\n",
    "\n",
    "    dinner_meals = selected_meals[selected_meals.meal_type == 'dinner'].sort_values(by='ratings', ascending=False)\n",
    "\n",
    "    dinner_meals.drop_duplicates('meal_id', inplace=True, keep='first')\n",
    "    print(dinner_meals.shape)\n",
    "\n",
    "    d = list(dinner_meals.head(28)['meal_id'])\n",
    "    d_meals = []\n",
    "    for i in d:\n",
    "        d_meals.append(mealsDF[mealsDF['meal_id']==i]['name'].values[0]) \n",
    "\n",
    "    snack_meals = selected_meals[selected_meals.meal_type == 'snack'].sort_values(by='ratings', ascending=False)\n",
    "\n",
    "    snack_meals.drop_duplicates('meal_id', inplace=True, keep='first')\n",
    "    print(snack_meals.shape)\n",
    "\n",
    "    s = list(snack_meals.head(28)['meal_id']) \n",
    "    s_meals = []\n",
    "    for i in s:\n",
    "        s_meals.append(mealsDF[mealsDF['meal_id']==i]['name'].values[0])\n",
    "    \n",
    "#     print(s_meals)\n",
    "#     print(bf_meals)\n",
    "#     print(l_meals)\n",
    "#     print(d_meals)\n",
    "    \n",
    "    print('\\n\\n\\n')"
   ]
  },
  {
   "cell_type": "code",
   "execution_count": 298,
   "metadata": {},
   "outputs": [
    {
     "data": {
      "text/plain": [
       "(32082, 8)"
      ]
     },
     "execution_count": 298,
     "metadata": {},
     "output_type": "execute_result"
    }
   ],
   "source": [
    "temp.shape"
   ]
  },
  {
   "cell_type": "code",
   "execution_count": 308,
   "metadata": {},
   "outputs": [
    {
     "data": {
      "text/plain": [
       "(750000, 2)"
      ]
     },
     "execution_count": 308,
     "metadata": {},
     "output_type": "execute_result"
    }
   ],
   "source": [
    "break_fast_index = temp[temp['meal_type'] == 'breakfast'].sample(200)['meal_id']\n",
    "\n",
    "lunch_index = temp[temp['meal_type'] == 'lunch'].sample(200)['meal_id']\n",
    "\n",
    "dinner_index = temp[temp['meal_type'] == 'dinner'].sample(200)['meal_id']\n",
    "\n",
    "snack_index = temp[temp['meal_type'] == 'snack'].sample(200)['meal_id']\n",
    "\n",
    "meals = []\n",
    "\n",
    "for user in user_table['user_id']:\n",
    "    for bf in break_fast_index.sample(50):\n",
    "        meals.append([user,bf])\n",
    "    for bf in lunch_index.sample(50):\n",
    "        meals.append([user,bf])\n",
    "    for bf in dinner_index.sample(50):\n",
    "        meals.append([user,bf])\n",
    "    for bf in snack_index.sample(100):\n",
    "        meals.append([user,bf])\n",
    "\n",
    "meals_df = pd.DataFrame(meals,columns=['user_id','meal_id'])\n",
    "\n",
    "meals_df.shape"
   ]
  },
  {
   "cell_type": "code",
   "execution_count": 309,
   "metadata": {},
   "outputs": [],
   "source": [
    "meals_df['ratings'] = np.random.randint(4,11,750000)"
   ]
  },
  {
   "cell_type": "code",
   "execution_count": 310,
   "metadata": {},
   "outputs": [],
   "source": [
    "meals_df = pd.merge(meals_df, temp, left_on='meal_id', right_on='meal_id', how='inner')\n",
    "\n",
    "meals_df.columns\n",
    "\n",
    "meals_df = meals_df[['user_id', 'meal_id', 'ratings','meal_type']]"
   ]
  },
  {
   "cell_type": "code",
   "execution_count": 315,
   "metadata": {},
   "outputs": [],
   "source": [
    "meals_df = meals_df.sample(200000).sort_index()"
   ]
  },
  {
   "cell_type": "code",
   "execution_count": 316,
   "metadata": {},
   "outputs": [],
   "source": [
    "csv_buffer = StringIO()\n",
    "meals_df.to_csv(csv_buffer, header=True, index=False)"
   ]
  },
  {
   "cell_type": "code",
   "execution_count": 317,
   "metadata": {},
   "outputs": [],
   "source": [
    "t = s3.put_object(Bucket='mymacrochefhj', Key='Resources/Data/ratings.csv', Body=csv_buffer.getvalue())"
   ]
  },
  {
   "cell_type": "code",
   "execution_count": 320,
   "metadata": {},
   "outputs": [
    {
     "name": "stdout",
     "output_type": "stream",
     "text": [
      "vegan\n",
      "(709, 10)\n",
      "(27, 10)\n",
      "(22, 10)\n",
      "(26, 10)\n",
      "(19, 10)\n",
      "\n",
      "\n",
      "\n",
      "\n",
      "ovovegan\n",
      "(1559, 10)\n",
      "(57, 10)\n",
      "(46, 10)\n",
      "(46, 10)\n",
      "(49, 10)\n",
      "\n",
      "\n",
      "\n",
      "\n",
      "lacvegan\n",
      "(872, 10)\n",
      "(34, 10)\n",
      "(24, 10)\n",
      "(28, 10)\n",
      "(26, 10)\n",
      "\n",
      "\n",
      "\n",
      "\n",
      "lacovovegan\n",
      "(4922, 10)\n",
      "(163, 10)\n",
      "(132, 10)\n",
      "(132, 10)\n",
      "(165, 10)\n",
      "\n",
      "\n",
      "\n",
      "\n",
      "pesce\n",
      "(1161, 10)\n",
      "(33, 10)\n",
      "(50, 10)\n",
      "(41, 10)\n",
      "(30, 10)\n",
      "\n",
      "\n",
      "\n",
      "\n"
     ]
    }
   ],
   "source": [
    "for d in ['vegan', 'ovovegan', 'lacvegan', 'lacovovegan', 'pesce']:\n",
    "    selected_meals = pd.merge(newclusterDF, meals_df, left_on='user_id', right_on='user_id', how='inner')\n",
    "    selected_meals = selected_meals[['user_id','meal_id','ratings']]\n",
    "    selected_meals = pd.merge(selected_meals, temp, left_on='meal_id', right_on='meal_id', how='inner')\n",
    "#     print(selected_meals.columns)\n",
    "    selected_meals = selected_meals[selected_meals[d] == 1]\n",
    "    print(d)\n",
    "    print(selected_meals.shape)\n",
    "    breakfast_meals = selected_meals[selected_meals.meal_type == 'breakfast'].sort_values(by='ratings', ascending=False)\n",
    "\n",
    "    breakfast_meals.drop_duplicates('meal_id', inplace=True, keep='first')\n",
    "    print(breakfast_meals.shape)\n",
    "\n",
    "    b = list(breakfast_meals.head(28)['meal_id'])\n",
    "    bf_meals = []\n",
    "    for i in b:\n",
    "        bf_meals.append(temp[temp['meal_id']==i]['name'].values[0])\n",
    "    lunch_meals = selected_meals[selected_meals.meal_type == 'lunch'].sort_values(by='ratings', ascending=False)\n",
    "\n",
    "    lunch_meals.drop_duplicates('meal_id', inplace=True, keep='first')\n",
    "    print(lunch_meals.shape)\n",
    "\n",
    "    l = list(lunch_meals.head(28)['meal_id'])\n",
    "    l_meals = []\n",
    "    for i in l:\n",
    "        l_meals.append(temp[temp['meal_id']==i]['name'].values[0])\n",
    "\n",
    "    dinner_meals = selected_meals[selected_meals.meal_type == 'dinner'].sort_values(by='ratings', ascending=False)\n",
    "\n",
    "    dinner_meals.drop_duplicates('meal_id', inplace=True, keep='first')\n",
    "    print(dinner_meals.shape)\n",
    "\n",
    "    d = list(dinner_meals.head(28)['meal_id'])\n",
    "    d_meals = []\n",
    "    for i in d:\n",
    "        d_meals.append(temp[temp['meal_id']==i]['name'].values[0]) \n",
    "\n",
    "    snack_meals = selected_meals[selected_meals.meal_type == 'snack'].sort_values(by='ratings', ascending=False)\n",
    "\n",
    "    snack_meals.drop_duplicates('meal_id', inplace=True, keep='first')\n",
    "    print(snack_meals.shape)\n",
    "\n",
    "    s = list(snack_meals.head(28)['meal_id']) \n",
    "    s_meals = []\n",
    "    for i in s:\n",
    "        s_meals.append(temp[temp['meal_id']==i]['name'].values[0])\n",
    "    \n",
    "#     print(s_meals)\n",
    "#     print(bf_meals)\n",
    "#     print(l_meals)\n",
    "#     print(d_meals)\n",
    "    \n",
    "    print('\\n\\n\\n')"
   ]
  },
  {
   "cell_type": "code",
   "execution_count": 322,
   "metadata": {},
   "outputs": [
    {
     "ename": "AttributeError",
     "evalue": "module 'sagemaker' has no attribute 'delete_endpoint'",
     "output_type": "error",
     "traceback": [
      "\u001b[0;31m---------------------------------------------------------------------------\u001b[0m",
      "\u001b[0;31mAttributeError\u001b[0m                            Traceback (most recent call last)",
      "\u001b[0;32m<ipython-input-322-c04db578ecc2>\u001b[0m in \u001b[0;36m<module>\u001b[0;34m()\u001b[0m\n\u001b[0;32m----> 1\u001b[0;31m \u001b[0msagemaker\u001b[0m\u001b[0;34m.\u001b[0m\u001b[0mdelete_endpoint\u001b[0m\u001b[0;34m(\u001b[0m\u001b[0;34m'kmeans-2019-12-17-23-25-25-039'\u001b[0m\u001b[0;34m)\u001b[0m\u001b[0;34m\u001b[0m\u001b[0m\n\u001b[0m",
      "\u001b[0;31mAttributeError\u001b[0m: module 'sagemaker' has no attribute 'delete_endpoint'"
     ]
    }
   ],
   "source": [
    "sagemaker.delete_endpoint('kmeans-2019-12-17-23-25-25-039')"
   ]
  },
  {
   "cell_type": "code",
   "execution_count": null,
   "metadata": {},
   "outputs": [],
   "source": []
  }
 ],
 "metadata": {
  "kernelspec": {
   "display_name": "conda_python3",
   "language": "python",
   "name": "conda_python3"
  },
  "language_info": {
   "codemirror_mode": {
    "name": "ipython",
    "version": 3
   },
   "file_extension": ".py",
   "mimetype": "text/x-python",
   "name": "python",
   "nbconvert_exporter": "python",
   "pygments_lexer": "ipython3",
   "version": "3.6.5"
  }
 },
 "nbformat": 4,
 "nbformat_minor": 4
}
